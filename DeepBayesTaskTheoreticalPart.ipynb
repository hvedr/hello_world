Problem 1.
$$P(\eta = k) = \sum_{n=k}^{\infty} P(\xi=n) \cdot \binom{n}{k} p^k (1-p)^{n-k} = $$
$$ = \sum_{n=k}^{\infty} e^{-\lambda}\frac{\lambda^{n}}{n!} \frac{n!}{k!(n-k)!} p^k (1-p)^{n-k} = $$
$$ = e^{-\lambda} \frac{p^k}{k!} \cdot \lambda^{k} \sum_{n-k=0}^{\infty} \frac{\lambda^{n-k} \cdot (1-p)^{n-k}}{(n-k)!} = $$
$$ = e^{-\lambda} \frac{(p \lambda)^k}{k!} \cdot e^{\lambda (1-p)} = e^{-p \lambda} \frac{(p \lambda)^k}{k!}$$
Thus $\eta$ has Poisson distribution with parameter $p \lambda$.

Problem 2.

Let $A$ be the event that the time of review $t = 10$ and $B$ be the event that the application was checked by a kind reviewer.

Then $$ P(A) = 0.5 \cdot \frac {1} {\sqrt{2 \pi} \cdot 10} e^{-\frac {(10 - 30)^2}{2 \cdot 10^2}} + 
0.5 \cdot \frac {1} {\sqrt{2 \pi} \cdot 5} e^{-\frac {(10 - 20)^2}{2 \cdot 5^2}} = 0.5 \cdot 0.0054 + 0.5 \cdot 0.0108 = 0.0081$$
and
$$ P(A|B) =  \frac {1} {\sqrt{2 \pi} \cdot 5} e^{-\frac {(10 - 20)^2}{2 \cdot 5^2}} = 0.0108.$$

So $$ P(B|A) = \frac{P(A|B) P(B)}{P(A)} = \frac{0.0108 \cdot 0.5}{0.0081} = \frac{2}{3}. $$
